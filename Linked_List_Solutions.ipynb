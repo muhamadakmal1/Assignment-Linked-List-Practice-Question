{
 "cells": [
  {
   "cell_type": "markdown",
   "id": "89855754",
   "metadata": {},
   "source": [
    "# Linked List Problems - Solutions in Python"
   ]
  },
  {
   "cell_type": "markdown",
   "id": "b2da12e0",
   "metadata": {},
   "source": [
    "## 1. Define a Doubly Linked List"
   ]
  },
  {
   "cell_type": "code",
   "execution_count": 1,
   "id": "6ccbf278",
   "metadata": {},
   "outputs": [],
   "source": [
    "# A Doubly Linked List is a type of linked list in which each node contains three parts:\n",
    "\n",
    "# Data: The value stored in the node.\n",
    "\n",
    "# Pointer to the next node: A reference to the next node in the list.\n",
    "\n",
    "# Pointer to the previous node: A reference to the previous node in the list.\n",
    "\n",
    "class DoublyNode:\n",
    "    def __init__(self, data):\n",
    "        self.data = data\n",
    "        self.prev = None\n",
    "        self.next = None"
   ]
  },
  {
   "cell_type": "markdown",
   "id": "6a298450",
   "metadata": {},
   "source": [
    "## 2. Reverse a Linked List In-Place"
   ]
  },
  {
   "cell_type": "code",
   "execution_count": 2,
   "id": "ded542ff",
   "metadata": {},
   "outputs": [],
   "source": [
    "class Node:\n",
    "    def __init__(self, data):\n",
    "        self.data = data\n",
    "        self.next = None\n",
    "\n",
    "def reverse(head):\n",
    "    prev = None\n",
    "    curr = head\n",
    "    while curr:\n",
    "        next_node = curr.next\n",
    "        curr.next = prev\n",
    "        prev = curr\n",
    "        curr = next_node\n",
    "    return prev"
   ]
  },
  {
   "cell_type": "markdown",
   "id": "6ea12c8e",
   "metadata": {},
   "source": [
    "## 3. Detect Cycle in a Linked List"
   ]
  },
  {
   "cell_type": "code",
   "execution_count": 3,
   "id": "cacfb273",
   "metadata": {},
   "outputs": [],
   "source": [
    "def has_cycle(head):\n",
    "    slow = fast = head\n",
    "    while fast and fast.next:\n",
    "        slow = slow.next\n",
    "        fast = fast.next.next\n",
    "        if slow == fast:\n",
    "            return True\n",
    "    return False"
   ]
  },
  {
   "cell_type": "markdown",
   "id": "3aa2abb0",
   "metadata": {},
   "source": [
    "## 4. Merge Two Sorted Linked Lists"
   ]
  },
  {
   "cell_type": "code",
   "execution_count": 4,
   "id": "3687db88",
   "metadata": {},
   "outputs": [],
   "source": [
    "def merge_sorted(l1, l2):\n",
    "    dummy = Node(0)\n",
    "    tail = dummy\n",
    "    while l1 and l2:\n",
    "        if l1.data < l2.data:\n",
    "            tail.next = l1\n",
    "            l1 = l1.next\n",
    "        else:\n",
    "            tail.next = l2\n",
    "            l2 = l2.next\n",
    "        tail = tail.next\n",
    "    tail.next = l1 or l2\n",
    "    return dummy.next"
   ]
  },
  {
   "cell_type": "markdown",
   "id": "7d99a430",
   "metadata": {},
   "source": [
    "## 5. Remove Nth Node from End"
   ]
  },
  {
   "cell_type": "code",
   "execution_count": 5,
   "id": "92404750",
   "metadata": {},
   "outputs": [],
   "source": [
    "def remove_nth_from_end(head, n):\n",
    "    dummy = Node(0)\n",
    "    dummy.next = head\n",
    "    fast = slow = dummy\n",
    "\n",
    "    for _ in range(n + 1):\n",
    "        fast = fast.next\n",
    "\n",
    "    while fast:\n",
    "        fast = fast.next\n",
    "        slow = slow.next\n",
    "\n",
    "    slow.next = slow.next.next\n",
    "    return dummy.next"
   ]
  },
  {
   "cell_type": "markdown",
   "id": "9e6de3fe",
   "metadata": {},
   "source": [
    "## 6. Remove Duplicates from Sorted Linked List"
   ]
  },
  {
   "cell_type": "code",
   "execution_count": 6,
   "id": "1da8bdec",
   "metadata": {},
   "outputs": [],
   "source": [
    "def remove_duplicates(head):\n",
    "    current = head\n",
    "    while current and current.next:\n",
    "        if current.data == current.next.data:\n",
    "            current.next = current.next.next\n",
    "        else:\n",
    "            current = current.next\n",
    "    return head"
   ]
  },
  {
   "cell_type": "markdown",
   "id": "a28ec0fc",
   "metadata": {},
   "source": [
    "## 7. Find Intersection of Two Linked Lists"
   ]
  },
  {
   "cell_type": "code",
   "execution_count": 7,
   "id": "bdb348e9",
   "metadata": {},
   "outputs": [],
   "source": [
    "def get_intersection(headA, headB):\n",
    "    visited = set()\n",
    "    while headA:\n",
    "        visited.add(headA)\n",
    "        headA = headA.next\n",
    "    while headB:\n",
    "        if headB in visited:\n",
    "            return headB\n",
    "        headB = headB.next\n",
    "    return None"
   ]
  },
  {
   "cell_type": "markdown",
   "id": "1883b3c8",
   "metadata": {},
   "source": [
    "## 8. Rotate Linked List by k Positions"
   ]
  },
  {
   "cell_type": "code",
   "execution_count": 8,
   "id": "e970f459",
   "metadata": {},
   "outputs": [],
   "source": [
    "def rotate_right(head, k):\n",
    "    if not head or not head.next or k == 0:\n",
    "        return head\n",
    "\n",
    "    # Count length\n",
    "    length = 1\n",
    "    old_tail = head\n",
    "    while old_tail.next:\n",
    "        old_tail = old_tail.next\n",
    "        length += 1\n",
    "\n",
    "    k = k % length\n",
    "    if k == 0:\n",
    "        return head\n",
    "\n",
    "    # Make circular\n",
    "    old_tail.next = head\n",
    "    steps_to_new_head = length - k\n",
    "    new_tail = head\n",
    "    for _ in range(steps_to_new_head - 1):\n",
    "        new_tail = new_tail.next\n",
    "\n",
    "    new_head = new_tail.next\n",
    "    new_tail.next = None\n",
    "    return new_head"
   ]
  },
  {
   "cell_type": "markdown",
   "id": "cdce3e59",
   "metadata": {},
   "source": [
    "## 9. Add Two Numbers Represented by Linked Lists"
   ]
  },
  {
   "cell_type": "code",
   "execution_count": 9,
   "id": "d80b5b6d",
   "metadata": {},
   "outputs": [],
   "source": [
    "def add_two_numbers(l1, l2):\n",
    "    dummy = Node(0)\n",
    "    current = dummy\n",
    "    carry = 0\n",
    "\n",
    "    while l1 or l2 or carry:\n",
    "        total = (l1.data if l1 else 0) + (l2.data if l2 else 0) + carry\n",
    "        carry = total // 10\n",
    "        current.next = Node(total % 10)\n",
    "        current = current.next\n",
    "\n",
    "        l1 = l1.next if l1 else None\n",
    "        l2 = l2.next if l2 else None\n",
    "\n",
    "    return dummy.next"
   ]
  },
  {
   "cell_type": "markdown",
   "id": "a0a2ca79",
   "metadata": {},
   "source": [
    "## 10. Clone Linked List with Next and Random Pointer"
   ]
  },
  {
   "cell_type": "code",
   "execution_count": 10,
   "id": "98214312",
   "metadata": {},
   "outputs": [],
   "source": [
    "class RandomNode:\n",
    "    def __init__(self, data):\n",
    "        self.data = data\n",
    "        self.next = None\n",
    "        self.random = None\n",
    "\n",
    "def clone_linked_list(head):\n",
    "    if not head:\n",
    "        return None\n",
    "\n",
    "    # Step 1: Clone nodes and insert them\n",
    "    current = head\n",
    "    while current:\n",
    "        next_node = current.next\n",
    "        copy = RandomNode(current.data)\n",
    "        current.next = copy\n",
    "        copy.next = next_node\n",
    "        current = next_node\n",
    "\n",
    "    # Step 2: Set random pointers\n",
    "    current = head\n",
    "    while current:\n",
    "        if current.random:\n",
    "            current.next.random = current.random.next\n",
    "        current = current.next.next\n",
    "\n",
    "    # Step 3: Separate original and copied list\n",
    "    original = head\n",
    "    copy_head = head.next\n",
    "    copy = copy_head\n",
    "\n",
    "    while original:\n",
    "        original.next = original.next.next\n",
    "        copy.next = copy.next.next if copy.next else None\n",
    "        original = original.next\n",
    "        copy = copy.next\n",
    "\n",
    "    return copy_head"
   ]
  }
 ],
 "metadata": {
  "kernelspec": {
   "display_name": "Python 3",
   "language": "python",
   "name": "python3"
  },
  "language_info": {
   "codemirror_mode": {
    "name": "ipython",
    "version": 3
   },
   "file_extension": ".py",
   "mimetype": "text/x-python",
   "name": "python",
   "nbconvert_exporter": "python",
   "pygments_lexer": "ipython3",
   "version": "3.11.4"
  }
 },
 "nbformat": 4,
 "nbformat_minor": 5
}
